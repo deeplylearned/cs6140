{
  "nbformat": 4,
  "nbformat_minor": 0,
  "metadata": {
    "kernelspec": {
      "display_name": "Python 3",
      "language": "python",
      "name": "python3"
    },
    "language_info": {
      "codemirror_mode": {
        "name": "ipython",
        "version": 3
      },
      "file_extension": ".py",
      "mimetype": "text/x-python",
      "name": "python",
      "nbconvert_exporter": "python",
      "pygments_lexer": "ipython3",
      "version": "3.7.1"
    },
    "colab": {
      "name": "Momentum_linearRegression.ipynb",
      "provenance": [],
      "include_colab_link": true
    }
  },
  "cells": [
    {
      "cell_type": "markdown",
      "metadata": {
        "id": "view-in-github",
        "colab_type": "text"
      },
      "source": [
        "<a href=\"https://colab.research.google.com/github/deeplylearned/cs6140/blob/main/Momentum_linearRegression.ipynb\" target=\"_parent\"><img src=\"https://colab.research.google.com/assets/colab-badge.svg\" alt=\"Open In Colab\"/></a>"
      ]
    },
    {
      "cell_type": "code",
      "metadata": {
        "id": "FHdQZNxLXuA9"
      },
      "source": [
        "import numpy as np\n",
        "import time\n",
        "from matplotlib import pyplot as plt\n",
        "import random\n",
        "import pandas as pd\n",
        "from sklearn import preprocessing\n",
        "from sklearn.model_selection import train_test_split\n",
        "from sklearn.metrics import r2_score, mean_squared_error"
      ],
      "execution_count": null,
      "outputs": []
    },
    {
      "cell_type": "code",
      "metadata": {
        "colab": {
          "base_uri": "https://localhost:8080/"
        },
        "id": "hW5ZjTdOY3Ro",
        "outputId": "39c88078-aa78-49ae-ba17-0b83b05f74ea"
      },
      "source": [
        "from google.colab import drive\n",
        "drive.mount('/content/drive')"
      ],
      "execution_count": null,
      "outputs": [
        {
          "output_type": "stream",
          "text": [
            "Mounted at /content/drive\n"
          ],
          "name": "stdout"
        }
      ]
    },
    {
      "cell_type": "code",
      "metadata": {
        "colab": {
          "base_uri": "https://localhost:8080/",
          "height": 200
        },
        "id": "PTsFkorUXuBE",
        "outputId": "8fcb4265-7eeb-4cb3-833f-ee92821bc7b5"
      },
      "source": [
        "df = pd.read_csv(\"/content/drive/MyDrive/boston.csv\")\n",
        "df.head()"
      ],
      "execution_count": null,
      "outputs": [
        {
          "output_type": "execute_result",
          "data": {
            "text/html": [
              "<div>\n",
              "<style scoped>\n",
              "    .dataframe tbody tr th:only-of-type {\n",
              "        vertical-align: middle;\n",
              "    }\n",
              "\n",
              "    .dataframe tbody tr th {\n",
              "        vertical-align: top;\n",
              "    }\n",
              "\n",
              "    .dataframe thead th {\n",
              "        text-align: right;\n",
              "    }\n",
              "</style>\n",
              "<table border=\"1\" class=\"dataframe\">\n",
              "  <thead>\n",
              "    <tr style=\"text-align: right;\">\n",
              "      <th></th>\n",
              "      <th>crim</th>\n",
              "      <th>zn</th>\n",
              "      <th>indus</th>\n",
              "      <th>chas</th>\n",
              "      <th>nox</th>\n",
              "      <th>rm</th>\n",
              "      <th>age</th>\n",
              "      <th>dis</th>\n",
              "      <th>rad</th>\n",
              "      <th>tax</th>\n",
              "      <th>ptratio</th>\n",
              "      <th>b</th>\n",
              "      <th>lstat</th>\n",
              "      <th>medv</th>\n",
              "    </tr>\n",
              "  </thead>\n",
              "  <tbody>\n",
              "    <tr>\n",
              "      <th>0</th>\n",
              "      <td>0.00632</td>\n",
              "      <td>18.0</td>\n",
              "      <td>2.31</td>\n",
              "      <td>0</td>\n",
              "      <td>0.538</td>\n",
              "      <td>6.575</td>\n",
              "      <td>65.2</td>\n",
              "      <td>4.0900</td>\n",
              "      <td>1</td>\n",
              "      <td>296</td>\n",
              "      <td>15.3</td>\n",
              "      <td>396.90</td>\n",
              "      <td>4.98</td>\n",
              "      <td>24.0</td>\n",
              "    </tr>\n",
              "    <tr>\n",
              "      <th>1</th>\n",
              "      <td>0.02731</td>\n",
              "      <td>0.0</td>\n",
              "      <td>7.07</td>\n",
              "      <td>0</td>\n",
              "      <td>0.469</td>\n",
              "      <td>6.421</td>\n",
              "      <td>78.9</td>\n",
              "      <td>4.9671</td>\n",
              "      <td>2</td>\n",
              "      <td>242</td>\n",
              "      <td>17.8</td>\n",
              "      <td>396.90</td>\n",
              "      <td>9.14</td>\n",
              "      <td>21.6</td>\n",
              "    </tr>\n",
              "    <tr>\n",
              "      <th>2</th>\n",
              "      <td>0.02729</td>\n",
              "      <td>0.0</td>\n",
              "      <td>7.07</td>\n",
              "      <td>0</td>\n",
              "      <td>0.469</td>\n",
              "      <td>7.185</td>\n",
              "      <td>61.1</td>\n",
              "      <td>4.9671</td>\n",
              "      <td>2</td>\n",
              "      <td>242</td>\n",
              "      <td>17.8</td>\n",
              "      <td>392.83</td>\n",
              "      <td>4.03</td>\n",
              "      <td>34.7</td>\n",
              "    </tr>\n",
              "    <tr>\n",
              "      <th>3</th>\n",
              "      <td>0.03237</td>\n",
              "      <td>0.0</td>\n",
              "      <td>2.18</td>\n",
              "      <td>0</td>\n",
              "      <td>0.458</td>\n",
              "      <td>6.998</td>\n",
              "      <td>45.8</td>\n",
              "      <td>6.0622</td>\n",
              "      <td>3</td>\n",
              "      <td>222</td>\n",
              "      <td>18.7</td>\n",
              "      <td>394.63</td>\n",
              "      <td>2.94</td>\n",
              "      <td>33.4</td>\n",
              "    </tr>\n",
              "    <tr>\n",
              "      <th>4</th>\n",
              "      <td>0.06905</td>\n",
              "      <td>0.0</td>\n",
              "      <td>2.18</td>\n",
              "      <td>0</td>\n",
              "      <td>0.458</td>\n",
              "      <td>7.147</td>\n",
              "      <td>54.2</td>\n",
              "      <td>6.0622</td>\n",
              "      <td>3</td>\n",
              "      <td>222</td>\n",
              "      <td>18.7</td>\n",
              "      <td>396.90</td>\n",
              "      <td>5.33</td>\n",
              "      <td>36.2</td>\n",
              "    </tr>\n",
              "  </tbody>\n",
              "</table>\n",
              "</div>"
            ],
            "text/plain": [
              "      crim    zn  indus  chas    nox  ...  tax  ptratio       b  lstat  medv\n",
              "0  0.00632  18.0   2.31     0  0.538  ...  296     15.3  396.90   4.98  24.0\n",
              "1  0.02731   0.0   7.07     0  0.469  ...  242     17.8  396.90   9.14  21.6\n",
              "2  0.02729   0.0   7.07     0  0.469  ...  242     17.8  392.83   4.03  34.7\n",
              "3  0.03237   0.0   2.18     0  0.458  ...  222     18.7  394.63   2.94  33.4\n",
              "4  0.06905   0.0   2.18     0  0.458  ...  222     18.7  396.90   5.33  36.2\n",
              "\n",
              "[5 rows x 14 columns]"
            ]
          },
          "metadata": {
            "tags": []
          },
          "execution_count": 3
        }
      ]
    },
    {
      "cell_type": "markdown",
      "metadata": {
        "id": "GZP0X_LR5fEA"
      },
      "source": [
        "# Description of dataset\n",
        "CRIM: Per capita crime rate by town <p>\n",
        "ZN: Proportion of residential land zoned for lots over 25,000 sq. ft <p>\n",
        "INDUS: Proportion of non-retail business acres per town <p>\n",
        "CHAS: Charles River dummy variable (= 1 if tract bounds river; 0 otherwise) <p>\n",
        "NOX: Nitric oxide concentration (parts per 10 million) <p>\n",
        "RM: Average number of rooms per dwelling <p>\n",
        "AGE: Proportion of owner-occupied units built prior to 1940 <p>\n",
        "DIS: Weighted distances to five Boston employment centers <p>\n",
        "RAD: Index of accessibility to radial highways <p>\n",
        "TAX: Full-value property tax rate per $\\$10,000$ <p>\n",
        "PTRATIO: Pupil-teacher ratio by town <p>\n",
        "B: $1000(Bk — 0.63)^2$, where Bk is the proportion of \\[people of African American descent\\] by town <p>\n",
        "LSTAT: Percentage of lower status of the population <p>\n",
        "MEDV: Median value of owner-occupied homes in $1000s <p>\n",
        "\n",
        "MEDV is the feature we're trying to predict."
      ]
    },
    {
      "cell_type": "code",
      "metadata": {
        "colab": {
          "base_uri": "https://localhost:8080/",
          "height": 291
        },
        "id": "li0eBSb76PC9",
        "outputId": "951bef4f-a976-4392-a91c-6dc86c72b517"
      },
      "source": [
        "df.describe()"
      ],
      "execution_count": null,
      "outputs": [
        {
          "output_type": "execute_result",
          "data": {
            "text/html": [
              "<div>\n",
              "<style scoped>\n",
              "    .dataframe tbody tr th:only-of-type {\n",
              "        vertical-align: middle;\n",
              "    }\n",
              "\n",
              "    .dataframe tbody tr th {\n",
              "        vertical-align: top;\n",
              "    }\n",
              "\n",
              "    .dataframe thead th {\n",
              "        text-align: right;\n",
              "    }\n",
              "</style>\n",
              "<table border=\"1\" class=\"dataframe\">\n",
              "  <thead>\n",
              "    <tr style=\"text-align: right;\">\n",
              "      <th></th>\n",
              "      <th>crim</th>\n",
              "      <th>zn</th>\n",
              "      <th>indus</th>\n",
              "      <th>chas</th>\n",
              "      <th>nox</th>\n",
              "      <th>rm</th>\n",
              "      <th>age</th>\n",
              "      <th>dis</th>\n",
              "      <th>rad</th>\n",
              "      <th>tax</th>\n",
              "      <th>ptratio</th>\n",
              "      <th>b</th>\n",
              "      <th>lstat</th>\n",
              "      <th>medv</th>\n",
              "    </tr>\n",
              "  </thead>\n",
              "  <tbody>\n",
              "    <tr>\n",
              "      <th>count</th>\n",
              "      <td>506.000000</td>\n",
              "      <td>506.000000</td>\n",
              "      <td>506.000000</td>\n",
              "      <td>506.000000</td>\n",
              "      <td>506.000000</td>\n",
              "      <td>506.000000</td>\n",
              "      <td>506.000000</td>\n",
              "      <td>506.000000</td>\n",
              "      <td>506.000000</td>\n",
              "      <td>506.000000</td>\n",
              "      <td>506.000000</td>\n",
              "      <td>506.000000</td>\n",
              "      <td>506.000000</td>\n",
              "      <td>506.000000</td>\n",
              "    </tr>\n",
              "    <tr>\n",
              "      <th>mean</th>\n",
              "      <td>3.613524</td>\n",
              "      <td>11.363636</td>\n",
              "      <td>11.136779</td>\n",
              "      <td>0.069170</td>\n",
              "      <td>0.554695</td>\n",
              "      <td>6.284634</td>\n",
              "      <td>68.574901</td>\n",
              "      <td>3.795043</td>\n",
              "      <td>9.549407</td>\n",
              "      <td>408.237154</td>\n",
              "      <td>18.455534</td>\n",
              "      <td>356.674032</td>\n",
              "      <td>12.653063</td>\n",
              "      <td>22.532806</td>\n",
              "    </tr>\n",
              "    <tr>\n",
              "      <th>std</th>\n",
              "      <td>8.601545</td>\n",
              "      <td>23.322453</td>\n",
              "      <td>6.860353</td>\n",
              "      <td>0.253994</td>\n",
              "      <td>0.115878</td>\n",
              "      <td>0.702617</td>\n",
              "      <td>28.148861</td>\n",
              "      <td>2.105710</td>\n",
              "      <td>8.707259</td>\n",
              "      <td>168.537116</td>\n",
              "      <td>2.164946</td>\n",
              "      <td>91.294864</td>\n",
              "      <td>7.141062</td>\n",
              "      <td>9.197104</td>\n",
              "    </tr>\n",
              "    <tr>\n",
              "      <th>min</th>\n",
              "      <td>0.006320</td>\n",
              "      <td>0.000000</td>\n",
              "      <td>0.460000</td>\n",
              "      <td>0.000000</td>\n",
              "      <td>0.385000</td>\n",
              "      <td>3.561000</td>\n",
              "      <td>2.900000</td>\n",
              "      <td>1.129600</td>\n",
              "      <td>1.000000</td>\n",
              "      <td>187.000000</td>\n",
              "      <td>12.600000</td>\n",
              "      <td>0.320000</td>\n",
              "      <td>1.730000</td>\n",
              "      <td>5.000000</td>\n",
              "    </tr>\n",
              "    <tr>\n",
              "      <th>25%</th>\n",
              "      <td>0.082045</td>\n",
              "      <td>0.000000</td>\n",
              "      <td>5.190000</td>\n",
              "      <td>0.000000</td>\n",
              "      <td>0.449000</td>\n",
              "      <td>5.885500</td>\n",
              "      <td>45.025000</td>\n",
              "      <td>2.100175</td>\n",
              "      <td>4.000000</td>\n",
              "      <td>279.000000</td>\n",
              "      <td>17.400000</td>\n",
              "      <td>375.377500</td>\n",
              "      <td>6.950000</td>\n",
              "      <td>17.025000</td>\n",
              "    </tr>\n",
              "    <tr>\n",
              "      <th>50%</th>\n",
              "      <td>0.256510</td>\n",
              "      <td>0.000000</td>\n",
              "      <td>9.690000</td>\n",
              "      <td>0.000000</td>\n",
              "      <td>0.538000</td>\n",
              "      <td>6.208500</td>\n",
              "      <td>77.500000</td>\n",
              "      <td>3.207450</td>\n",
              "      <td>5.000000</td>\n",
              "      <td>330.000000</td>\n",
              "      <td>19.050000</td>\n",
              "      <td>391.440000</td>\n",
              "      <td>11.360000</td>\n",
              "      <td>21.200000</td>\n",
              "    </tr>\n",
              "    <tr>\n",
              "      <th>75%</th>\n",
              "      <td>3.677082</td>\n",
              "      <td>12.500000</td>\n",
              "      <td>18.100000</td>\n",
              "      <td>0.000000</td>\n",
              "      <td>0.624000</td>\n",
              "      <td>6.623500</td>\n",
              "      <td>94.075000</td>\n",
              "      <td>5.188425</td>\n",
              "      <td>24.000000</td>\n",
              "      <td>666.000000</td>\n",
              "      <td>20.200000</td>\n",
              "      <td>396.225000</td>\n",
              "      <td>16.955000</td>\n",
              "      <td>25.000000</td>\n",
              "    </tr>\n",
              "    <tr>\n",
              "      <th>max</th>\n",
              "      <td>88.976200</td>\n",
              "      <td>100.000000</td>\n",
              "      <td>27.740000</td>\n",
              "      <td>1.000000</td>\n",
              "      <td>0.871000</td>\n",
              "      <td>8.780000</td>\n",
              "      <td>100.000000</td>\n",
              "      <td>12.126500</td>\n",
              "      <td>24.000000</td>\n",
              "      <td>711.000000</td>\n",
              "      <td>22.000000</td>\n",
              "      <td>396.900000</td>\n",
              "      <td>37.970000</td>\n",
              "      <td>50.000000</td>\n",
              "    </tr>\n",
              "  </tbody>\n",
              "</table>\n",
              "</div>"
            ],
            "text/plain": [
              "             crim          zn       indus  ...           b       lstat        medv\n",
              "count  506.000000  506.000000  506.000000  ...  506.000000  506.000000  506.000000\n",
              "mean     3.613524   11.363636   11.136779  ...  356.674032   12.653063   22.532806\n",
              "std      8.601545   23.322453    6.860353  ...   91.294864    7.141062    9.197104\n",
              "min      0.006320    0.000000    0.460000  ...    0.320000    1.730000    5.000000\n",
              "25%      0.082045    0.000000    5.190000  ...  375.377500    6.950000   17.025000\n",
              "50%      0.256510    0.000000    9.690000  ...  391.440000   11.360000   21.200000\n",
              "75%      3.677082   12.500000   18.100000  ...  396.225000   16.955000   25.000000\n",
              "max     88.976200  100.000000   27.740000  ...  396.900000   37.970000   50.000000\n",
              "\n",
              "[8 rows x 14 columns]"
            ]
          },
          "metadata": {
            "tags": []
          },
          "execution_count": 4
        }
      ]
    },
    {
      "cell_type": "markdown",
      "metadata": {
        "id": "_SbtgZKc7oyX"
      },
      "source": [
        "Entire dataset consists of numerical values."
      ]
    },
    {
      "cell_type": "code",
      "metadata": {
        "colab": {
          "base_uri": "https://localhost:8080/"
        },
        "id": "JCn8_hr76l3E",
        "outputId": "022a1bcf-3e85-42f3-b256-6dbe2252712f"
      },
      "source": [
        "df.info()"
      ],
      "execution_count": null,
      "outputs": [
        {
          "output_type": "stream",
          "text": [
            "<class 'pandas.core.frame.DataFrame'>\n",
            "RangeIndex: 506 entries, 0 to 505\n",
            "Data columns (total 14 columns):\n",
            " #   Column   Non-Null Count  Dtype  \n",
            "---  ------   --------------  -----  \n",
            " 0   crim     506 non-null    float64\n",
            " 1   zn       506 non-null    float64\n",
            " 2   indus    506 non-null    float64\n",
            " 3   chas     506 non-null    int64  \n",
            " 4   nox      506 non-null    float64\n",
            " 5   rm       506 non-null    float64\n",
            " 6   age      506 non-null    float64\n",
            " 7   dis      506 non-null    float64\n",
            " 8   rad      506 non-null    int64  \n",
            " 9   tax      506 non-null    int64  \n",
            " 10  ptratio  506 non-null    float64\n",
            " 11  b        506 non-null    float64\n",
            " 12  lstat    506 non-null    float64\n",
            " 13  medv     506 non-null    float64\n",
            "dtypes: float64(11), int64(3)\n",
            "memory usage: 55.5 KB\n"
          ],
          "name": "stdout"
        }
      ]
    },
    {
      "cell_type": "markdown",
      "metadata": {
        "id": "8aJ2yzOV7wUB"
      },
      "source": [
        "There are no null or missing values"
      ]
    },
    {
      "cell_type": "code",
      "metadata": {
        "colab": {
          "base_uri": "https://localhost:8080/"
        },
        "id": "wbo6mQf77liL",
        "outputId": "3c5f445b-5e06-4a36-c453-bbffe3697a60"
      },
      "source": [
        "df.isnull().sum()"
      ],
      "execution_count": null,
      "outputs": [
        {
          "output_type": "execute_result",
          "data": {
            "text/plain": [
              "crim       0\n",
              "zn         0\n",
              "indus      0\n",
              "chas       0\n",
              "nox        0\n",
              "rm         0\n",
              "age        0\n",
              "dis        0\n",
              "rad        0\n",
              "tax        0\n",
              "ptratio    0\n",
              "b          0\n",
              "lstat      0\n",
              "medv       0\n",
              "dtype: int64"
            ]
          },
          "metadata": {
            "tags": []
          },
          "execution_count": 6
        }
      ]
    },
    {
      "cell_type": "markdown",
      "metadata": {
        "id": "ffsEumB1XuBF"
      },
      "source": [
        "## Question 6 a\n",
        "Defining the loss functions and overlaying the graphs"
      ]
    },
    {
      "cell_type": "code",
      "metadata": {
        "id": "i9MyDwxzXuBG"
      },
      "source": [
        "def squared_loss(X):\n",
        "     return np.power((X) , 2)\n",
        "    \n",
        "def absolute_loss(X):\n",
        "    return np.abs(X)\n",
        "\n",
        "def huber_loss(X, delta):\n",
        "    return np.where(np.abs(X) <= delta, 0.5*np.power((X) , 2), (delta*np.abs(X)-0.5*(delta**2)) )"
      ],
      "execution_count": null,
      "outputs": []
    },
    {
      "cell_type": "markdown",
      "metadata": {
        "id": "qBbMERwDGbNJ"
      },
      "source": [
        "# Vanilla Gradient Descent"
      ]
    },
    {
      "cell_type": "code",
      "metadata": {
        "id": "CS40fHBTXuBI",
        "colab": {
          "base_uri": "https://localhost:8080/",
          "height": 550
        },
        "outputId": "8247e85f-8fec-4ef5-c0fb-fbb9bc28bb47"
      },
      "source": [
        "def stochastic_gradient_quad(X,Y,alpha, iterations = 5000):\n",
        "    m, n = X.shape\n",
        "    theta_k = np.zeros((iterations,n+1))\n",
        "    # theta_prev = np.ones(n+1)\n",
        "    cost_k = np.zeros(iterations)\n",
        "#     print(theta_k[0][0], theta_k[0][1])\n",
        "#     print(np.ones(len(X)))\n",
        "    \n",
        "    # print(X)\n",
        "    # print(\"pred\", theta_k[0][1:].T.dot(X.T))\n",
        "    # print(\"pred\", theta_k[0][1:].T.dot(X[0]))\n",
        "    for k in range(iterations-1):\n",
        "      \n",
        "      if k > 0 :\n",
        "        # print(k)\n",
        "        # print(np.sum( np.abs(cost_k[k] - cost_k[k-1])))\n",
        "        if np.sum( np.abs(cost_k[k] - cost_k[k-1])) < 55:\n",
        "          break\n",
        "\n",
        "      j = random.randint(0,m-1)\n",
        "      # print(theta_k[k][1:].shape)\n",
        "      # print(\"x\",X[j].shape)\n",
        "      # print(\"pred\", theta_k[k][1:].T.dot(X.T))\n",
        "      predicted = theta_k[k][0]+ theta_k[k][1:].T.dot(X[j])\n",
        "      # print(predicted )\n",
        "      error = predicted- Y[j]\n",
        "\n",
        "      # theta_prev = theta_k[k]\n",
        "      theta_k[k+1][0] = theta_k[k][0] - alpha*error\n",
        "      # print(\"iter\",alpha*error)\n",
        "      for i in range(1,n+1):\n",
        "        # print(alpha*2*error*X[j][i])\n",
        "        # print(i)\n",
        "        # print(X[j])\n",
        "        # print( theta_k[k])\n",
        "      # theta_k[k+1][1] = theta_k[k][1] - alpha*error*X[j]\n",
        "        theta_k[k+1][i] = theta_k[k][i] - alpha*error*X[j][i-1]\n",
        "      # theta_k[k+1][1] = theta_k[k][1] - alpha*2*error*X[j]\n",
        "\n",
        "\n",
        "      cost_k[k] = np.sum( np.power( ( theta_k[k][0] * np.ones(m)+ theta_k[k][1:].T.dot(X.T) - Y),2 ) ) /m\n",
        "      # print(( theta_k[k][0] * np.ones(m)+ theta_k[k][1:].T.dot(X.T).shape - Y))\n",
        "    # print(cost_k)\n",
        "    plt.figure(0)\n",
        "    plt.plot(cost_k[:len(cost_k)-1])\n",
        "    # print(theta_k)\n",
        "    # return(theta_k[iterations-1][0],theta_k[iterations-1][1])\n",
        "    return k , theta_k[k]\n",
        "\n",
        "features = [ name for name in df.columns if name != 'medv']\n",
        "# print(features)\n",
        "\n",
        "# Extracting the data points\n",
        "X = df[features].values\n",
        "# X = df[['lstat', 'rm']].values\n",
        "# X = df['rm'].values\n",
        "# print(X)\n",
        "\n",
        "# Extracting the labels\n",
        "Y = df['medv'].values\n",
        "\n",
        "min_max_scaler = preprocessing.MinMaxScaler()\n",
        "X_scaled = min_max_scaler.fit_transform(X)\n",
        "print(X_scaled)\n",
        "# print(Y)\n",
        "# theta_0 , theta_1 = gradient_descent_quad(X,Y,0.01)\n",
        "thetas = stochastic_gradient_quad(X_scaled,Y,0.001)\n",
        "print(thetas)"
      ],
      "execution_count": null,
      "outputs": [
        {
          "output_type": "stream",
          "text": [
            "[[0.00000000e+00 1.80000000e-01 6.78152493e-02 ... 2.87234043e-01\n",
            "  1.00000000e+00 8.96799117e-02]\n",
            " [2.35922539e-04 0.00000000e+00 2.42302053e-01 ... 5.53191489e-01\n",
            "  1.00000000e+00 2.04470199e-01]\n",
            " [2.35697744e-04 0.00000000e+00 2.42302053e-01 ... 5.53191489e-01\n",
            "  9.89737254e-01 6.34657837e-02]\n",
            " ...\n",
            " [6.11892474e-04 0.00000000e+00 4.20454545e-01 ... 8.93617021e-01\n",
            "  1.00000000e+00 1.07891832e-01]\n",
            " [1.16072990e-03 0.00000000e+00 4.20454545e-01 ... 8.93617021e-01\n",
            "  9.91300620e-01 1.31070640e-01]\n",
            " [4.61841693e-04 0.00000000e+00 4.20454545e-01 ... 8.93617021e-01\n",
            "  1.00000000e+00 1.69701987e-01]]\n",
            "(4277, array([ 8.4663808 , -0.89790391,  3.61760823, -0.60454713,  2.11592243,\n",
            "       -0.0933129 ,  7.4552118 ,  2.12093786,  3.2658618 , -1.16058567,\n",
            "       -1.07969539,  0.9022505 ,  8.99661621, -2.26443173]))\n"
          ],
          "name": "stdout"
        },
        {
          "output_type": "display_data",
          "data": {
            "image/png": "[encoded data removed]",
            "text/plain": [
              "<Figure size 432x288 with 1 Axes>"
            ]
          },
          "metadata": {
            "tags": [],
            "needs_background": "light"
          }
        }
      ]
    },
    {
      "cell_type": "markdown",
      "metadata": {
        "id": "iSfZbADwKaA9"
      },
      "source": [
        "Unnormalized input matrix giving overflow error."
      ]
    },
    {
      "cell_type": "markdown",
      "metadata": {
        "id": "y4i-fZnIGiV7"
      },
      "source": [
        "# Stochastic Gradient descent with momentum"
      ]
    },
    {
      "cell_type": "code",
      "metadata": {
        "colab": {
          "base_uri": "https://localhost:8080/",
          "height": 265
        },
        "id": "cRnz0Lo55xOC",
        "outputId": "ac11994d-f812-4d14-9c9d-91f0d9aaebf9"
      },
      "source": [
        "def stochastic_gradient_momentum(X,Y,alpha,gamma=0.1, iterations = 3000):\n",
        "    m, n = X.shape\n",
        "    theta_k = np.ones((iterations,n+1))\n",
        "    v1_k = np.zeros((iterations,n+1))\n",
        "    # v2_k = np.zeros((iterations,n+1))\n",
        "    cost_k = np.zeros(iterations)\n",
        "\n",
        "    for k in range(iterations-1):\n",
        "\n",
        "      if k > 0 : # Concvergence Criteria\n",
        "        # print(np.sum( np.abs(cost_k[k] - cost_k[k-1])))\n",
        "        if np.sum( np.abs(cost_k[k] - cost_k[k-1])) < 55:\n",
        "          break\n",
        "\n",
        "      j = random.randint(0,m-1)\n",
        "\n",
        "      predicted = theta_k[k][0]+ theta_k[k][1:].T.dot(X[j])\n",
        "      error = predicted- Y[j]\n",
        "      # print(error)\n",
        "      v1_k[k+1][0] = gamma * v1_k[k][0] + 2 * alpha * error  * theta_k[k][0]\n",
        "      theta_k[k+1][0] = theta_k[k][0] - v1_k[k+1][0]\n",
        "\n",
        "      for i in range(1,n+1):\n",
        "        # print(gamma * v1_k[k][i] + 2 * alpha * error  * theta_k[k][i] * X[j][i-1])\n",
        "        v1_k[k+1][i] = gamma * v1_k[k][i] + 2 * alpha * error  * theta_k[k][i] * X[j][i-1]\n",
        "        theta_k[k+1][i] = theta_k[k][i] - v1_k[k+1][i]\n",
        "        # theta_k[k+1][i] = theta_k[k][i] - alpha*2*error*X[j][i-1]\n",
        "      # self.v_2 = self.beta * self.v_2 + 2 * self.b * self.w_2\n",
        "      # self.w_2 -= self.lr * self.v_2\n",
        "\n",
        "\n",
        "      # theta_k[k+1][0] = theta_k[k][0] - alpha*2*error\n",
        "      # for i in range(1,n+1):\n",
        "      #   theta_k[k+1][i] = theta_k[k][i] - alpha*2*error*X[j][i-1]\n",
        "\n",
        "      cost_k[k] = np.sum( np.power( ( theta_k[k][0] * np.ones(m)+ theta_k[k][1:].T.dot(X.T) - Y),2 ) ) /m\n",
        "\n",
        "    plt.figure(0)\n",
        "    plt.plot(cost_k[:k])\n",
        "    # print(v1_k)\n",
        "    return k , theta_k[k]\n",
        "\n",
        "features = [ name for name in df.columns if name != 'medv']\n",
        "# print(features)\n",
        "\n",
        "# Extracting the data points\n",
        "X = df[features].values\n",
        "\n",
        "# Extracting the labels\n",
        "Y = df['medv'].values\n",
        "\n",
        "min_max_scaler = preprocessing.MinMaxScaler()\n",
        "X_scaled = min_max_scaler.fit_transform(X)\n",
        "# print(X_scaled)\n",
        "thetas = stochastic_gradient_momentum(X_scaled,Y,0.001,0.8)\n",
        "# print(thetas)"
      ],
      "execution_count": null,
      "outputs": [
        {
          "output_type": "display_data",
          "data": {
            "image/png": "[encoded data removed]",
            "text/plain": [
              "<Figure size 432x288 with 1 Axes>"
            ]
          },
          "metadata": {
            "tags": [],
            "needs_background": "light"
          }
        }
      ]
    },
    {
      "cell_type": "markdown",
      "metadata": {
        "id": "NXTkXNTYhn6e"
      },
      "source": [
        "# Nesterov Accelerated Gradient"
      ]
    },
    {
      "cell_type": "code",
      "metadata": {
        "colab": {
          "base_uri": "https://localhost:8080/",
          "height": 265
        },
        "id": "5D4piqZmFKTr",
        "outputId": "392cb78f-6347-41b4-e881-e9e8cabb6363"
      },
      "source": [
        "def stochastic_gradient_nest(X,Y,alpha,gamma=0.1, iterations = 3000):\n",
        "    m, n = X.shape\n",
        "    theta_k = np.ones((iterations,n+1))\n",
        "    v1_k = np.zeros((iterations,n+1))\n",
        "    # v2_k = np.zeros((iterations,n+1))\n",
        "    cost_k = np.zeros(iterations)\n",
        "    theta_k_temp = np.zeros(n+1)\n",
        "\n",
        "    for k in range(iterations-1):\n",
        "\n",
        "      if k > 0 : # Convergence Criteria\n",
        "        # print(np.sum( np.abs(cost_k[k] - cost_k[k-1])))\n",
        "        if np.sum( np.abs(cost_k[k] - cost_k[k-1])) < 55:\n",
        "          break\n",
        "\n",
        "      j = random.randint(0,m-1)\n",
        "\n",
        "      predicted = theta_k[k][0]+ theta_k[k][1:].T.dot(X[j])\n",
        "      error = predicted- Y[j]\n",
        "      \n",
        "      theta_k_temp[0]  = theta_k[k][0]\n",
        "      theta_k[k][0]  = theta_k[k][0] + v1_k[k][0]\n",
        "      v1_k[k+1][0] = gamma * v1_k[k][0] - 2 * alpha * error  * theta_k[k][0]\n",
        "      theta_k[k][0] = theta_k_temp[0]\n",
        "      theta_k[k+1][0] = theta_k[k][0] + v1_k[k+1][0]\n",
        "\n",
        "      for i in range(1,n+1):\n",
        "        # v1_k[k+1][i] = gamma * v1_k[k][i] - 2 * alpha * error  * theta_k[k][i] * X[j][i-1]\n",
        "        # theta_k[k+1][i] = theta_k[k][i] - v1_k[k+1][i]\n",
        "        theta_k_temp[i]  = theta_k[k][i]\n",
        "        theta_k[k][i]  = theta_k[k][i] + v1_k[k][i]\n",
        "        v1_k[k+1][i] = gamma * v1_k[k][i] - 2 * alpha * error  * theta_k[k][i] * X[j][i-1]\n",
        "        theta_k[k][i] = theta_k_temp[i]\n",
        "        theta_k[k+1][i] = theta_k[k][i] + v1_k[k+1][i]\n",
        "\n",
        "        # prev_w1 = self.w_1\n",
        "        # self.w_1 = self.w_1 + self.beta * self.v_1\n",
        "        # self.v_1 = self.beta * self.v_1 - self.lr * 2 * self.a * self.w_1\n",
        "        # self.w_1 = prev_w1\n",
        "\n",
        "        # prev_w2 = self.w_2\n",
        "        # self.w_2 = self.w_2 + self.beta * self.v_2\n",
        "        # self.v_2 = self.beta * self.v_2 - self.lr * 2 * self.b * self.w_2\n",
        "        # self.w_2 = prev_w2\n",
        "\n",
        "        # self.w_1 += self.v_1\n",
        "        # self.w_2 += self.v_2\n",
        "\n",
        "      cost_k[k] = np.sum( np.power( ( theta_k[k][0] * np.ones(m)+ theta_k[k][1:].T.dot(X.T) - Y),2 ) ) /m\n",
        "\n",
        "    plt.figure(0)\n",
        "    plt.plot(cost_k[:k])\n",
        "    # print(v1_k)\n",
        "    return k , theta_k[k]\n",
        "\n",
        "features = [ name for name in df.columns if name != 'medv']\n",
        "# print(features)\n",
        "\n",
        "# Extracting the data points\n",
        "X = df[features].values\n",
        "\n",
        "# Extracting the labels\n",
        "Y = df['medv'].values\n",
        "\n",
        "min_max_scaler = preprocessing.MinMaxScaler()\n",
        "X_scaled = min_max_scaler.fit_transform(X)\n",
        "# print(X_scaled)\n",
        "converge_point, thetas = stochastic_gradient_nest(X_scaled,Y,0.001,0.8)\n",
        "# print(thetas)"
      ],
      "execution_count": null,
      "outputs": [
        {
          "output_type": "display_data",
          "data": {
            "image/png": "[encoded data removed]",
            "text/plain": [
              "<Figure size 432x288 with 1 Axes>"
            ]
          },
          "metadata": {
            "tags": [],
            "needs_background": "light"
          }
        }
      ]
    },
    {
      "cell_type": "code",
      "metadata": {
        "id": "e3s0MRsvXuBS",
        "colab": {
          "base_uri": "https://localhost:8080/",
          "height": 425
        },
        "outputId": "cd16999e-454c-413d-b167-a1f01373dd97"
      },
      "source": [
        "vanilla = 0\n",
        "momentum = 0\n",
        "nesterov = 0\n",
        "\n",
        "vanilla_error = 0\n",
        "momentum_error = 0\n",
        "nesterov_error = 0\n",
        "\n",
        "vanilla_time = 0\n",
        "momentum_time  = 0\n",
        "nesterov_time  = 0\n",
        "\n",
        "features = [ name for name in df.columns if name != 'medv']\n",
        "# print(features)\n",
        "\n",
        "# Extracting the data points\n",
        "X = df[features].values\n",
        "\n",
        "# Extracting the labels\n",
        "Y = df['medv'].values\n",
        "\n",
        "min_max_scaler = preprocessing.MinMaxScaler()\n",
        "X_scaled = min_max_scaler.fit_transform(X)\n",
        "\n",
        "for i in range(20):\n",
        "  X_train, X_test, y_train, y_test = train_test_split(X_scaled, Y, test_size=0.2, random_state=1)\n",
        "  m = len(X_test)\n",
        "  # print(len(X_train))\n",
        "  # print(len(y_train))\n",
        "  vstart = time.time()\n",
        "  converge_point1, thetas1 = stochastic_gradient_quad(X_train,y_train,0.001)\n",
        "  vend = time.time()\n",
        "  mstart = time.time()\n",
        "  converge_point2, thetas2 = stochastic_gradient_momentum(X_train,y_train,0.001,0.6)\n",
        "  mend = time.time()\n",
        "  nstart = time.time()\n",
        "  converge_point3, thetas3 = stochastic_gradient_nest(X_train,y_train,0.001,0.6)\n",
        "  nend = time.time()\n",
        "\n",
        "  vanilla +=  converge_point1\n",
        "  momentum += converge_point2\n",
        "  nesterov += converge_point3  \n",
        "\n",
        "  vanilla_error += mean_squared_error(thetas1[0] * np.ones(m)+ thetas1[1:].T.dot(X_test.T),y_test)\n",
        "  momentum_error +=  mean_squared_error(thetas2[0] * np.ones(m)+ thetas2[1:].T.dot(X_test.T),y_test)\n",
        "  nesterov_error += mean_squared_error(thetas3[0] * np.ones(m)+ thetas3[1:].T.dot(X_test.T),y_test)\n",
        "\n",
        "  vanilla_time += vend - vstart\n",
        "  momentum_time +=   mend - mstart\n",
        "  nesterov_time +=  nend - nstart\n",
        "\n",
        "\n",
        "print(\"Vanilla SGD:\", vanilla/20)\n",
        "print(\"Vanilla MSE:\", vanilla_error/20)\n",
        "print(\"Vanilla time:\", vanilla_time/20)\n",
        "print(\"Momentum:\", momentum/20 )\n",
        "print(\"Momentum MSE:\", momentum_error/20)\n",
        "print(\"Momentum time:\", momentum_time/20)\n",
        "print(\"NAG:\", nesterov/20)\n",
        "print(\"NAG MSE:\", nesterov_error/20)\n",
        "print(\"Nesterov time:\", nesterov_time/20)\n",
        "\n"
      ],
      "execution_count": null,
      "outputs": [
        {
          "output_type": "stream",
          "text": [
            "Vanilla SGD: 3735.75\n",
            "Vanilla MSE: 66.59918552058049\n",
            "Vanilla time: 0.29776049852371217\n",
            "Momentum: 433.05\n",
            "Momentum MSE: 64.64329828506197\n",
            "Momentum time: 0.053342461585998535\n",
            "NAG: 447.7\n",
            "NAG MSE: 65.02050605218143\n",
            "Nesterov time: 0.06951428651809692\n"
          ],
          "name": "stdout"
        },
        {
          "output_type": "display_data",
          "data": {
            "image/png": "[encoded data removed]",
            "text/plain": [
              "<Figure size 432x288 with 1 Axes>"
            ]
          },
          "metadata": {
            "tags": [],
            "needs_background": "light"
          }
        }
      ]
    },
    {
      "cell_type": "markdown",
      "metadata": {
        "id": "MJKurTRrGr-a"
      },
      "source": [
        "Unfortunately, in the stochastic gradient case, Nesterov momentum does not improve the rate of convergence. It works more on stabilising the algorithm when the mometum is large for the same amount of learning rates."
      ]
    }
  ]
}