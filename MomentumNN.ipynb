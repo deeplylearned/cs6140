{
  "nbformat": 4,
  "nbformat_minor": 0,
  "metadata": {
    "colab": {
      "name": "MomentumNN.ipynb",
      "provenance": [],
      "collapsed_sections": [],
      "include_colab_link": true
    },
    "kernelspec": {
      "name": "python3",
      "display_name": "Python 3"
    },
    "language_info": {
      "name": "python"
    }
  },
  "cells": [
    {
      "cell_type": "markdown",
      "metadata": {
        "id": "view-in-github",
        "colab_type": "text"
      },
      "source": [
        "<a href=\"https://colab.research.google.com/github/deeplylearned/cs6140/blob/main/MomentumNN.ipynb\" target=\"_parent\"><img src=\"https://colab.research.google.com/assets/colab-badge.svg\" alt=\"Open In Colab\"/></a>"
      ]
    },
    {
      "cell_type": "code",
      "metadata": {
        "id": "LRljcSznwvTu"
      },
      "source": [
        "# Regression Example With Boston Dataset: Standardized and Larger\n",
        "import pandas as pd\n",
        "import time\n",
        "import keras\n",
        "from keras.models import Sequential\n",
        "from keras.layers import Dense\n",
        "from keras.wrappers.scikit_learn import KerasRegressor\n",
        "from sklearn.model_selection import cross_val_score\n",
        "from sklearn.model_selection import KFold\n",
        "from sklearn.preprocessing import StandardScaler\n",
        "from sklearn.pipeline import Pipeline\n",
        "from keras.callbacks import EarlyStopping\n",
        "# load dataset\n"
      ],
      "execution_count": null,
      "outputs": []
    },
    {
      "cell_type": "code",
      "metadata": {
        "id": "8YJPdF_Mas9B",
        "colab": {
          "base_uri": "https://localhost:8080/"
        },
        "outputId": "e7237e8e-1ccc-4058-8917-323170f029ef"
      },
      "source": [
        "from google.colab import drive\n",
        "drive.mount('/content/drive')"
      ],
      "execution_count": null,
      "outputs": [
        {
          "output_type": "stream",
          "text": [
            "Mounted at /content/drive\n"
          ],
          "name": "stdout"
        }
      ]
    },
    {
      "cell_type": "code",
      "metadata": {
        "id": "ZbsG4MCOavWg",
        "colab": {
          "base_uri": "https://localhost:8080/",
          "height": 200
        },
        "outputId": "71ff9bff-8fce-4df4-9907-bf63f37e879d"
      },
      "source": [
        "# dataframe = pd.read_csv(\"/content/drive/MyDrive/housingData.csv\")\n",
        "dataframe = pd.read_csv(\"/content/drive/MyDrive/boston.csv\")\n",
        "dataframe.head()"
      ],
      "execution_count": null,
      "outputs": [
        {
          "output_type": "execute_result",
          "data": {
            "text/html": [
              "<div>\n",
              "<style scoped>\n",
              "    .dataframe tbody tr th:only-of-type {\n",
              "        vertical-align: middle;\n",
              "    }\n",
              "\n",
              "    .dataframe tbody tr th {\n",
              "        vertical-align: top;\n",
              "    }\n",
              "\n",
              "    .dataframe thead th {\n",
              "        text-align: right;\n",
              "    }\n",
              "</style>\n",
              "<table border=\"1\" class=\"dataframe\">\n",
              "  <thead>\n",
              "    <tr style=\"text-align: right;\">\n",
              "      <th></th>\n",
              "      <th>crim</th>\n",
              "      <th>zn</th>\n",
              "      <th>indus</th>\n",
              "      <th>chas</th>\n",
              "      <th>nox</th>\n",
              "      <th>rm</th>\n",
              "      <th>age</th>\n",
              "      <th>dis</th>\n",
              "      <th>rad</th>\n",
              "      <th>tax</th>\n",
              "      <th>ptratio</th>\n",
              "      <th>b</th>\n",
              "      <th>lstat</th>\n",
              "      <th>medv</th>\n",
              "    </tr>\n",
              "  </thead>\n",
              "  <tbody>\n",
              "    <tr>\n",
              "      <th>0</th>\n",
              "      <td>0.00632</td>\n",
              "      <td>18.0</td>\n",
              "      <td>2.31</td>\n",
              "      <td>0</td>\n",
              "      <td>0.538</td>\n",
              "      <td>6.575</td>\n",
              "      <td>65.2</td>\n",
              "      <td>4.0900</td>\n",
              "      <td>1</td>\n",
              "      <td>296</td>\n",
              "      <td>15.3</td>\n",
              "      <td>396.90</td>\n",
              "      <td>4.98</td>\n",
              "      <td>24.0</td>\n",
              "    </tr>\n",
              "    <tr>\n",
              "      <th>1</th>\n",
              "      <td>0.02731</td>\n",
              "      <td>0.0</td>\n",
              "      <td>7.07</td>\n",
              "      <td>0</td>\n",
              "      <td>0.469</td>\n",
              "      <td>6.421</td>\n",
              "      <td>78.9</td>\n",
              "      <td>4.9671</td>\n",
              "      <td>2</td>\n",
              "      <td>242</td>\n",
              "      <td>17.8</td>\n",
              "      <td>396.90</td>\n",
              "      <td>9.14</td>\n",
              "      <td>21.6</td>\n",
              "    </tr>\n",
              "    <tr>\n",
              "      <th>2</th>\n",
              "      <td>0.02729</td>\n",
              "      <td>0.0</td>\n",
              "      <td>7.07</td>\n",
              "      <td>0</td>\n",
              "      <td>0.469</td>\n",
              "      <td>7.185</td>\n",
              "      <td>61.1</td>\n",
              "      <td>4.9671</td>\n",
              "      <td>2</td>\n",
              "      <td>242</td>\n",
              "      <td>17.8</td>\n",
              "      <td>392.83</td>\n",
              "      <td>4.03</td>\n",
              "      <td>34.7</td>\n",
              "    </tr>\n",
              "    <tr>\n",
              "      <th>3</th>\n",
              "      <td>0.03237</td>\n",
              "      <td>0.0</td>\n",
              "      <td>2.18</td>\n",
              "      <td>0</td>\n",
              "      <td>0.458</td>\n",
              "      <td>6.998</td>\n",
              "      <td>45.8</td>\n",
              "      <td>6.0622</td>\n",
              "      <td>3</td>\n",
              "      <td>222</td>\n",
              "      <td>18.7</td>\n",
              "      <td>394.63</td>\n",
              "      <td>2.94</td>\n",
              "      <td>33.4</td>\n",
              "    </tr>\n",
              "    <tr>\n",
              "      <th>4</th>\n",
              "      <td>0.06905</td>\n",
              "      <td>0.0</td>\n",
              "      <td>2.18</td>\n",
              "      <td>0</td>\n",
              "      <td>0.458</td>\n",
              "      <td>7.147</td>\n",
              "      <td>54.2</td>\n",
              "      <td>6.0622</td>\n",
              "      <td>3</td>\n",
              "      <td>222</td>\n",
              "      <td>18.7</td>\n",
              "      <td>396.90</td>\n",
              "      <td>5.33</td>\n",
              "      <td>36.2</td>\n",
              "    </tr>\n",
              "  </tbody>\n",
              "</table>\n",
              "</div>"
            ],
            "text/plain": [
              "      crim    zn  indus  chas    nox  ...  tax  ptratio       b  lstat  medv\n",
              "0  0.00632  18.0   2.31     0  0.538  ...  296     15.3  396.90   4.98  24.0\n",
              "1  0.02731   0.0   7.07     0  0.469  ...  242     17.8  396.90   9.14  21.6\n",
              "2  0.02729   0.0   7.07     0  0.469  ...  242     17.8  392.83   4.03  34.7\n",
              "3  0.03237   0.0   2.18     0  0.458  ...  222     18.7  394.63   2.94  33.4\n",
              "4  0.06905   0.0   2.18     0  0.458  ...  222     18.7  396.90   5.33  36.2\n",
              "\n",
              "[5 rows x 14 columns]"
            ]
          },
          "metadata": {
            "tags": []
          },
          "execution_count": 4
        }
      ]
    },
    {
      "cell_type": "code",
      "metadata": {
        "colab": {
          "base_uri": "https://localhost:8080/"
        },
        "id": "Hnb_Odirw0nf",
        "outputId": "d1c6f4df-4b47-460b-83c3-8a51c8d05138"
      },
      "source": [
        "dataset = dataframe.values\n",
        "# split into input (X) and output (Y) variables\n",
        "X = dataset[:,0:13]\n",
        "Y = dataset[:,13]\n",
        "# define the model\n",
        "def larger_model():\n",
        "  # create model\n",
        "  model = Sequential()\n",
        "  model.add(Dense(13, input_dim=13, kernel_initializer='normal', activation='relu'))\n",
        "  model.add(Dense(6, kernel_initializer='normal', activation='relu'))\n",
        "  model.add(Dense(1, kernel_initializer='normal'))\n",
        "  # Compile model\n",
        "  opt = keras.optimizers.SGD(learning_rate=0.01, momentum=0.0, nesterov=False, name='SGD')\n",
        "  model.compile(loss='mean_squared_error', optimizer='adam')\n",
        "  return model\n",
        "\n",
        "\n",
        "# evaluate model with standardized dataset\n",
        "estimators = []\n",
        "estimators.append(('standardize', StandardScaler()))\n",
        "estimators.append(('mlp', KerasRegressor(build_fn=larger_model, epochs=50, batch_size=5, verbose=0)))\n",
        "pipeline = Pipeline(estimators)\n",
        "kfold = KFold(n_splits=10)\n",
        "results = cross_val_score(pipeline, X, Y, cv=kfold)\n",
        "print(\"Larger: %.2f (%.2f) MSE\" % (results.mean(), results.std()))"
      ],
      "execution_count": null,
      "outputs": [
        {
          "output_type": "stream",
          "text": [
            "Larger: -22.93 (22.35) MSE\n"
          ],
          "name": "stdout"
        }
      ]
    },
    {
      "cell_type": "code",
      "metadata": {
        "id": "PSlYJp0LIsp5",
        "colab": {
          "base_uri": "https://localhost:8080/"
        },
        "outputId": "f2925856-77ec-4fa3-eee5-22f93b8a2d2b"
      },
      "source": [
        "# Visualize training history\n",
        "from keras.models import Sequential\n",
        "from keras.layers import Dense\n",
        "import matplotlib.pyplot as plt\n",
        "import numpy\n",
        "\n",
        "dataset = dataframe.values\n",
        "# split into input (X) and output (Y) variables\n",
        "X = dataset[:,0:13]\n",
        "Y = dataset[:,13]\n",
        "\n",
        "# # load pima indians dataset\n",
        "# dataset = numpy.loadtxt(\"pima-indians-diabetes.csv\", delimiter=\",\")\n",
        "# # split into input (X) and output (Y) variables\n",
        "# X = dataset[:,0:8]\n",
        "# Y = dataset[:,8]\n",
        "# create model\n",
        "model = Sequential()\n",
        "model.add(Dense(13, input_dim=13, kernel_initializer='normal', activation='relu'))\n",
        "model.add(Dense(6, kernel_initializer='normal', activation='relu'))\n",
        "model.add(Dense(1, kernel_initializer='normal'))\n",
        "# Compile model\n",
        "opt = keras.optimizers.SGD(learning_rate=0.0001, momentum=0.0, nesterov=False, name='SGD')\n",
        "model.compile(loss='mean_squared_error', optimizer=opt, metrics=[ keras.metrics.MeanSquaredError()])\n",
        "# Fit the model\n",
        "es = EarlyStopping(monitor='val_loss', mode='min', verbose=1)\n",
        "start = time.time()\n",
        "history = model.fit(X, Y, validation_split=0.33, epochs=500, batch_size=10, verbose=0,callbacks=[es])\n",
        "end = time.time()\n",
        "print(\"Traning time:\", end - start)\n",
        "# list all data in history\n"
      ],
      "execution_count": null,
      "outputs": [
        {
          "output_type": "stream",
          "text": [
            "Epoch 00017: early stopping\n",
            "Traning time: 1.742114782333374\n"
          ],
          "name": "stdout"
        }
      ]
    },
    {
      "cell_type": "code",
      "metadata": {
        "colab": {
          "base_uri": "https://localhost:8080/",
          "height": 591
        },
        "id": "H435KAi2NNyA",
        "outputId": "8af96bba-2c17-4ce8-bdd0-5538c6fe02aa"
      },
      "source": [
        "print(history.history.keys())\n",
        "# summarize history for accuracy\n",
        "plt.plot(history.history['mean_squared_error'][5:])\n",
        "plt.plot(history.history['val_mean_squared_error'][5:])\n",
        "plt.title('model accuracy')\n",
        "plt.ylabel('accuracy')\n",
        "plt.xlabel('epoch')\n",
        "plt.legend(['train', 'test'], loc='upper left')\n",
        "plt.show()\n",
        "# summarize history for loss\n",
        "plt.plot(history.history['loss'][20:])\n",
        "plt.plot(history.history['val_loss'][20:])\n",
        "plt.title('model loss')\n",
        "plt.ylabel('loss')\n",
        "plt.xlabel('epoch')\n",
        "plt.legend(['train', 'test'], loc='upper left')\n",
        "plt.show()"
      ],
      "execution_count": null,
      "outputs": [
        {
          "output_type": "stream",
          "text": [
            "dict_keys(['loss', 'mean_squared_error', 'val_loss', 'val_mean_squared_error'])\n"
          ],
          "name": "stdout"
        },
        {
          "output_type": "display_data",
          "data": {
            "image/png": "[encoded data removed]",
            "text/plain": [
              "<Figure size 432x288 with 1 Axes>"
            ]
          },
          "metadata": {
            "tags": [],
            "needs_background": "light"
          }
        },
        {
          "output_type": "display_data",
          "data": {
            "image/png": "[encoded data removed]",
            "text/plain": [
              "<Figure size 432x288 with 1 Axes>"
            ]
          },
          "metadata": {
            "tags": [],
            "needs_background": "light"
          }
        }
      ]
    },
    {
      "cell_type": "code",
      "metadata": {
        "colab": {
          "base_uri": "https://localhost:8080/"
        },
        "id": "MX1XkkHiQJGe",
        "outputId": "4d7afd8f-9520-43eb-a265-7f94d5f7e108"
      },
      "source": [
        "for i in range(15,len(history.history['mean_squared_error'])-15):\n",
        "  mean = 0 \n",
        "  index = -1\n",
        "  for j in range(15):\n",
        "    mean+= history.history['mean_squared_error'][i-j]\n",
        "  # print(mean/15)\n",
        "  if mean/15 < 75:\n",
        "    print(i)\n",
        "    print(\"Loss:\", mean/15)\n",
        "    break\n",
        "  # if index > 0 :\n",
        "  #   print(index)\n",
        "  # break"
      ],
      "execution_count": null,
      "outputs": [
        {
          "output_type": "stream",
          "text": [
            "67\n",
            "Loss: 74.57771402994791\n"
          ],
          "name": "stdout"
        }
      ]
    },
    {
      "cell_type": "markdown",
      "metadata": {
        "id": "C35jp3pyb-Fg"
      },
      "source": [
        "#Momentum"
      ]
    },
    {
      "cell_type": "code",
      "metadata": {
        "id": "siwKeKTBcSHl",
        "colab": {
          "base_uri": "https://localhost:8080/"
        },
        "outputId": "646b96cb-491c-4ba1-a462-4e02cba2ab3e"
      },
      "source": [
        "dataset = dataframe.values\n",
        "# split into input (X) and output (Y) variables\n",
        "X = dataset[:,0:13]\n",
        "Y = dataset[:,13]\n",
        "\n",
        "# # load pima indians dataset\n",
        "# dataset = numpy.loadtxt(\"pima-indians-diabetes.csv\", delimiter=\",\")\n",
        "# # split into input (X) and output (Y) variables\n",
        "# X = dataset[:,0:8]\n",
        "# Y = dataset[:,8]\n",
        "# create model\n",
        "model = Sequential()\n",
        "model.add(Dense(13, input_dim=13, kernel_initializer='normal', activation='relu'))\n",
        "model.add(Dense(6, kernel_initializer='normal', activation='relu'))\n",
        "model.add(Dense(1, kernel_initializer='normal'))\n",
        "# Compile model\n",
        "opt = keras.optimizers.SGD(learning_rate=0.0001, momentum=0.8, nesterov=False, name='SGD')\n",
        "model.compile(loss='mean_squared_error', optimizer=opt, metrics=[ keras.metrics.MeanSquaredError()])\n",
        "# Fit the model\n",
        "es = EarlyStopping(monitor='val_loss', mode='min', verbose=1)\n",
        "start = time.time()\n",
        "history = model.fit(X, Y, validation_split=0.33, epochs=500, batch_size=10, verbose=0,callbacks=[es])\n",
        "end = time.time()\n",
        "print(\"Traning time:\", end - start)"
      ],
      "execution_count": null,
      "outputs": [
        {
          "output_type": "stream",
          "text": [
            "Epoch 00035: early stopping\n",
            "Traning time: 3.083616256713867\n"
          ],
          "name": "stdout"
        }
      ]
    },
    {
      "cell_type": "code",
      "metadata": {
        "colab": {
          "base_uri": "https://localhost:8080/",
          "height": 591
        },
        "id": "STgyuuAQcjf5",
        "outputId": "224b1179-de9c-48a0-9381-57db0e2e998f"
      },
      "source": [
        "print(history.history.keys())\n",
        "# summarize history for accuracy\n",
        "plt.plot(history.history['mean_squared_error'][5:])\n",
        "plt.plot(history.history['val_mean_squared_error'][5:])\n",
        "plt.title('model accuracy')\n",
        "plt.ylabel('accuracy')\n",
        "plt.xlabel('epoch')\n",
        "plt.legend(['train', 'test'], loc='upper left')\n",
        "plt.show()\n",
        "# summarize history for loss\n",
        "plt.plot(history.history['loss'][20:])\n",
        "plt.plot(history.history['val_loss'][20:])\n",
        "plt.title('model loss')\n",
        "plt.ylabel('loss')\n",
        "plt.xlabel('epoch')\n",
        "plt.legend(['train', 'test'], loc='upper left')\n",
        "plt.show()"
      ],
      "execution_count": null,
      "outputs": [
        {
          "output_type": "stream",
          "text": [
            "dict_keys(['loss', 'mean_squared_error', 'val_loss', 'val_mean_squared_error'])\n"
          ],
          "name": "stdout"
        },
        {
          "output_type": "display_data",
          "data": {
            "image/png": "[encoded data removed]",
            "text/plain": [
              "<Figure size 432x288 with 1 Axes>"
            ]
          },
          "metadata": {
            "tags": [],
            "needs_background": "light"
          }
        },
        {
          "output_type": "display_data",
          "data": {
            "image/png": "[encoded data removed]",
            "text/plain": [
              "<Figure size 432x288 with 1 Axes>"
            ]
          },
          "metadata": {
            "tags": [],
            "needs_background": "light"
          }
        }
      ]
    },
    {
      "cell_type": "code",
      "metadata": {
        "colab": {
          "base_uri": "https://localhost:8080/"
        },
        "id": "9C_d8Pwjb9jq",
        "outputId": "3975c78b-140e-4e64-8206-947250bf3634"
      },
      "source": [
        "for i in range(15,len(history.history['mean_squared_error'])-15):\n",
        "  mean = 0 \n",
        "  index = -1\n",
        "  for j in range(15):\n",
        "    mean+= history.history['mean_squared_error'][i-j]\n",
        "  # print(mean/15)\n",
        "  if mean/15 < 75:\n",
        "    print(i)\n",
        "    print(\"Loss:\", mean/15)\n",
        "    break\n",
        "  # if index > 0 :\n",
        "  #   print(index)\n",
        "  # break"
      ],
      "execution_count": null,
      "outputs": [
        {
          "output_type": "stream",
          "text": [
            "24\n",
            "Loss: 73.44388478597006\n"
          ],
          "name": "stdout"
        }
      ]
    },
    {
      "cell_type": "code",
      "metadata": {
        "id": "d1qDzlfvdz1Y",
        "colab": {
          "base_uri": "https://localhost:8080/"
        },
        "outputId": "207f034a-aac5-48b6-8370-d6f2c7acf753"
      },
      "source": [
        "dataset = dataframe.values\n",
        "# split into input (X) and output (Y) variables\n",
        "X = dataset[:,0:13]\n",
        "Y = dataset[:,13]\n",
        "\n",
        "# # load pima indians dataset\n",
        "# dataset = numpy.loadtxt(\"pima-indians-diabetes.csv\", delimiter=\",\")\n",
        "# # split into input (X) and output (Y) variables\n",
        "# X = dataset[:,0:8]\n",
        "# Y = dataset[:,8]\n",
        "# create model\n",
        "model = Sequential()\n",
        "model.add(Dense(13, input_dim=13, kernel_initializer='normal', activation='relu'))\n",
        "model.add(Dense(6, kernel_initializer='normal', activation='relu'))\n",
        "model.add(Dense(1, kernel_initializer='normal'))\n",
        "# Compile model\n",
        "opt = keras.optimizers.SGD(learning_rate=0.0001, momentum=0.8, nesterov=True, name='SGD')\n",
        "model.compile(loss='mean_squared_error', optimizer=opt, metrics=[ keras.metrics.MeanSquaredError()])\n",
        "# Fit the model\n",
        "es = EarlyStopping(monitor='val_loss', mode='min', verbose=1)\n",
        "start = time.time()\n",
        "history = model.fit(X, Y, validation_split=0.33, epochs=500, batch_size=10, verbose=0,callbacks=[es])\n",
        "end = time.time()\n",
        "print(\"Traning time:\", end - start)"
      ],
      "execution_count": null,
      "outputs": [
        {
          "output_type": "stream",
          "text": [
            "Epoch 00035: early stopping\n",
            "Traning time: 3.255129337310791\n"
          ],
          "name": "stdout"
        }
      ]
    },
    {
      "cell_type": "code",
      "metadata": {
        "colab": {
          "base_uri": "https://localhost:8080/",
          "height": 591
        },
        "id": "ymjgvvwAd8nh",
        "outputId": "c4b9bd7a-1a78-4225-c964-fc25a060daba"
      },
      "source": [
        "print(history.history.keys())\n",
        "# summarize history for accuracy\n",
        "plt.plot(history.history['mean_squared_error'][5:])\n",
        "plt.plot(history.history['val_mean_squared_error'][5:])\n",
        "plt.title('model accuracy')\n",
        "plt.ylabel('accuracy')\n",
        "plt.xlabel('epoch')\n",
        "plt.legend(['train', 'test'], loc='upper left')\n",
        "plt.show()\n",
        "# summarize history for loss\n",
        "plt.plot(history.history['loss'][20:])\n",
        "plt.plot(history.history['val_loss'][20:])\n",
        "plt.title('model loss')\n",
        "plt.ylabel('loss')\n",
        "plt.xlabel('epoch')\n",
        "plt.legend(['train', 'test'], loc='upper left')\n",
        "plt.show()"
      ],
      "execution_count": null,
      "outputs": [
        {
          "output_type": "stream",
          "text": [
            "dict_keys(['loss', 'mean_squared_error', 'val_loss', 'val_mean_squared_error'])\n"
          ],
          "name": "stdout"
        },
        {
          "output_type": "display_data",
          "data": {
            "image/png": "[encoded data removed]",
            "text/plain": [
              "<Figure size 432x288 with 1 Axes>"
            ]
          },
          "metadata": {
            "tags": [],
            "needs_background": "light"
          }
        },
        {
          "output_type": "display_data",
          "data": {
            "image/png": "[encoded data removed]",
            "text/plain": [
              "<Figure size 432x288 with 1 Axes>"
            ]
          },
          "metadata": {
            "tags": [],
            "needs_background": "light"
          }
        }
      ]
    },
    {
      "cell_type": "code",
      "metadata": {
        "colab": {
          "base_uri": "https://localhost:8080/"
        },
        "id": "4Ab-f8Lxkc4H",
        "outputId": "b57f6be2-5685-4428-ba09-ca657647016f"
      },
      "source": [
        "for i in range(15,len(history.history['mean_squared_error'])-15):\n",
        "  mean = 0 \n",
        "  index = -1\n",
        "  for j in range(15):\n",
        "    mean+= history.history['mean_squared_error'][i-j]\n",
        "  # print(mean/15)\n",
        "  if mean/15 < 75:\n",
        "    print(i)\n",
        "    print(\"Loss:\", mean/15)\n",
        "    break\n",
        "  # if index > 0 :\n",
        "  #   print(index)\n",
        "  # break"
      ],
      "execution_count": null,
      "outputs": [
        {
          "output_type": "stream",
          "text": [
            "91\n",
            "Loss: 74.90603129069011\n"
          ],
          "name": "stdout"
        }
      ]
    },
    {
      "cell_type": "code",
      "metadata": {
        "id": "5mFkUxWVpWmH"
      },
      "source": [
        "def sgd_nn():\n",
        "  dataset = dataframe.values\n",
        "  # split into input (X) and output (Y) variables\n",
        "  X = dataset[:,0:13]\n",
        "  Y = dataset[:,13]\n",
        "\n",
        "  # # load pima indians dataset\n",
        "  # dataset = numpy.loadtxt(\"pima-indians-diabetes.csv\", delimiter=\",\")\n",
        "  # # split into input (X) and output (Y) variables\n",
        "  # X = dataset[:,0:8]\n",
        "  # Y = dataset[:,8]\n",
        "  # create model\n",
        "  model = Sequential()\n",
        "  model.add(Dense(13, input_dim=13, kernel_initializer='normal', activation='relu'))\n",
        "  model.add(Dense(6, kernel_initializer='normal', activation='relu'))\n",
        "  model.add(Dense(1, kernel_initializer='normal'))\n",
        "  # Compile model\n",
        "  opt = keras.optimizers.SGD(learning_rate=0.0001, momentum=0, nesterov=True, name='SGD')\n",
        "  model.compile(loss='mean_squared_error', optimizer=opt, metrics=[ keras.metrics.MeanSquaredError()])\n",
        "  # Fit the model\n",
        "  start = time.time()\n",
        "  history = model.fit(X, Y, validation_split=0.33, epochs=500, batch_size=10, verbose=0)\n",
        "  end = time.time()\n",
        "\n",
        "  for i in range(15,len(history.history['mean_squared_error'])-15):\n",
        "    mean = 0 \n",
        "    index = -1\n",
        "    for j in range(15):\n",
        "      mean+= history.history['mean_squared_error'][i-j]\n",
        "    # print(mean/15)\n",
        "    if mean/15 < 75:\n",
        "      # print(i)\n",
        "      # print(\"Loss:\", mean/15)\n",
        "      return( i , mean/15, end - start)"
      ],
      "execution_count": null,
      "outputs": []
    },
    {
      "cell_type": "code",
      "metadata": {
        "id": "kKsUZ9MppJce"
      },
      "source": [
        "def momentum_nn():\n",
        "  dataset = dataframe.values\n",
        "  # split into input (X) and output (Y) variables\n",
        "  X = dataset[:,0:13]\n",
        "  Y = dataset[:,13]\n",
        "\n",
        "  # # load pima indians dataset\n",
        "  # dataset = numpy.loadtxt(\"pima-indians-diabetes.csv\", delimiter=\",\")\n",
        "  # # split into input (X) and output (Y) variables\n",
        "  # X = dataset[:,0:8]\n",
        "  # Y = dataset[:,8]\n",
        "  # create model\n",
        "  model = Sequential()\n",
        "  model.add(Dense(13, input_dim=13, kernel_initializer='normal', activation='relu'))\n",
        "  model.add(Dense(6, kernel_initializer='normal', activation='relu'))\n",
        "  model.add(Dense(1, kernel_initializer='normal'))\n",
        "  # Compile model\n",
        "  opt = keras.optimizers.SGD(learning_rate=0.0001, momentum=0.8, nesterov=False, name='SGD')\n",
        "  model.compile(loss='mean_squared_error', optimizer=opt, metrics=[ keras.metrics.MeanSquaredError()])\n",
        "  # Fit the model\n",
        "  start = time.time()\n",
        "  history = model.fit(X, Y, validation_split=0.33, epochs=500, batch_size=10, verbose=0)\n",
        "  end = time.time()\n",
        "\n",
        "  for i in range(15,len(history.history['mean_squared_error'])-15):\n",
        "    mean = 0 \n",
        "    index = -1\n",
        "    for j in range(15):\n",
        "      mean+= history.history['mean_squared_error'][i-j]\n",
        "    # print(mean/15)\n",
        "    if mean/15 < 75:\n",
        "      # print(i)\n",
        "      # print(\"Loss:\", mean/15)\n",
        "      return( i , mean/15, end - start)"
      ],
      "execution_count": null,
      "outputs": []
    },
    {
      "cell_type": "code",
      "metadata": {
        "id": "7lrjyqlGnWPR"
      },
      "source": [
        "def nesterov_nn():\n",
        "  dataset = dataframe.values\n",
        "  # split into input (X) and output (Y) variables\n",
        "  X = dataset[:,0:13]\n",
        "  Y = dataset[:,13]\n",
        "\n",
        "  # # load pima indians dataset\n",
        "  # dataset = numpy.loadtxt(\"pima-indians-diabetes.csv\", delimiter=\",\")\n",
        "  # # split into input (X) and output (Y) variables\n",
        "  # X = dataset[:,0:8]\n",
        "  # Y = dataset[:,8]\n",
        "  # create model\n",
        "  model = Sequential()\n",
        "  model.add(Dense(13, input_dim=13, kernel_initializer='normal', activation='relu'))\n",
        "  model.add(Dense(6, kernel_initializer='normal', activation='relu'))\n",
        "  model.add(Dense(1, kernel_initializer='normal'))\n",
        "  # Compile model\n",
        "  opt = keras.optimizers.SGD(learning_rate=0.0001, momentum=0.8, nesterov=True, name='SGD')\n",
        "  model.compile(loss='mean_squared_error', optimizer=opt, metrics=[ keras.metrics.MeanSquaredError()])\n",
        "  # Fit the model\n",
        "  start = time.time()\n",
        "  history = model.fit(X, Y, validation_split=0.33, epochs=500, batch_size=10, verbose=0)\n",
        "  end = time.time()\n",
        "\n",
        "  for i in range(15,len(history.history['mean_squared_error'])-15):\n",
        "    mean = 0 \n",
        "    index = -1\n",
        "    for j in range(15):\n",
        "      mean+= history.history['mean_squared_error'][i-j]\n",
        "    # print(mean/15)\n",
        "    if mean/15 < 75:\n",
        "      # print(i)\n",
        "      # print(\"Loss:\", mean/15)\n",
        "      return( i , mean/15 , end - start)"
      ],
      "execution_count": null,
      "outputs": []
    },
    {
      "cell_type": "code",
      "metadata": {
        "colab": {
          "base_uri": "https://localhost:8080/"
        },
        "id": "JKy9IgGPnq8x",
        "outputId": "ec58babf-1f84-45bb-ae79-8b7e715c595e"
      },
      "source": [
        "nest_conv = 0\n",
        "nest_error = 0\n",
        "nest_time = 0\n",
        "sgd_conv = 0\n",
        "sgd_error = 0\n",
        "sgd_time = 0\n",
        "moment_conv = 0\n",
        "moment_error = 0\n",
        "moment_time = 0\n",
        "\n",
        "for x in range(5):\n",
        "  conv1 , error1 ,time1 = nesterov_nn()\n",
        "  conv2 , error2, time2 = sgd_nn()\n",
        "  conv3 , error3, time3 = momentum_nn()\n",
        "\n",
        "  nest_conv += conv1\n",
        "  nest_error += error1\n",
        "  nest_time += time1\n",
        "\n",
        "  sgd_conv += conv2\n",
        "  sgd_error += error2\n",
        "  sgd_time += time2 \n",
        "\n",
        "  moment_conv += conv3\n",
        "  moment_error += error3\n",
        "  moment_time += time3\n",
        "\n",
        "print(\"Nesterov Error:\", nest_error/5)\n",
        "print(\"Nesterov Convergence:\", nest_conv/5)\n",
        "print(\"Nesterov Time:\", nest_time/5)\n",
        "print(\"sgd_ Error:\", sgd_error/5)\n",
        "print(\"sgd_ Convergence:\", sgd_conv/5)\n",
        "print(\"sgd_ time:\", sgd_time/5)\n",
        "print(\"moment_ Error:\", moment_error/5)\n",
        "print(\"moment_ Convergence:\", moment_conv/5)\n",
        "print(\"moment_ time:\", moment_time/5)"
      ],
      "execution_count": null,
      "outputs": [
        {
          "output_type": "stream",
          "text": [
            "Nesterov Error: 74.61767110188802\n",
            "Nesterov Convergence: 77.2\n",
            "Nesterov Time: 44.381943702697754\n",
            "sgd_ Error: 74.87670766194663\n",
            "sgd_ Convergence: 293.4\n",
            "sgd_ time: 43.911032581329344\n",
            "moment_ Error: 74.3857475789388\n",
            "moment_ Convergence: 65.0\n",
            "moment_ time: 44.39724621772766\n"
          ],
          "name": "stdout"
        }
      ]
    }
  ]
}